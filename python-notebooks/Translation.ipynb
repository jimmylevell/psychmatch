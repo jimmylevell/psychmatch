{
  "nbformat": 4,
  "nbformat_minor": 0,
  "metadata": {
    "colab": {
      "name": "Translation.ipynb",
      "provenance": [],
      "collapsed_sections": []
    },
    "kernelspec": {
      "name": "python3",
      "display_name": "Python 3"
    },
    "language_info": {
      "name": "python"
    }
  },
  "cells": [
    {
      "cell_type": "code",
      "source": [
        "!pip install googletrans==4.0.0-rc1\n",
        "!pip install deepl"
      ],
      "metadata": {
        "colab": {
          "base_uri": "https://localhost:8080/"
        },
        "id": "5fHae1NDM5gW",
        "outputId": "3d26ad62-b0d5-4af8-fe44-f19374af0946"
      },
      "execution_count": null,
      "outputs": [
        {
          "output_type": "stream",
          "name": "stdout",
          "text": [
            "Requirement already satisfied: googletrans==4.0.0-rc1 in /usr/local/lib/python3.7/dist-packages (4.0.0rc1)\n",
            "Requirement already satisfied: httpx==0.13.3 in /usr/local/lib/python3.7/dist-packages (from googletrans==4.0.0-rc1) (0.13.3)\n",
            "Requirement already satisfied: sniffio in /usr/local/lib/python3.7/dist-packages (from httpx==0.13.3->googletrans==4.0.0-rc1) (1.2.0)\n",
            "Requirement already satisfied: hstspreload in /usr/local/lib/python3.7/dist-packages (from httpx==0.13.3->googletrans==4.0.0-rc1) (2021.12.1)\n",
            "Requirement already satisfied: idna==2.* in /usr/local/lib/python3.7/dist-packages (from httpx==0.13.3->googletrans==4.0.0-rc1) (2.10)\n",
            "Requirement already satisfied: httpcore==0.9.* in /usr/local/lib/python3.7/dist-packages (from httpx==0.13.3->googletrans==4.0.0-rc1) (0.9.1)\n",
            "Requirement already satisfied: certifi in /usr/local/lib/python3.7/dist-packages (from httpx==0.13.3->googletrans==4.0.0-rc1) (2021.10.8)\n",
            "Requirement already satisfied: rfc3986<2,>=1.3 in /usr/local/lib/python3.7/dist-packages (from httpx==0.13.3->googletrans==4.0.0-rc1) (1.5.0)\n",
            "Requirement already satisfied: chardet==3.* in /usr/local/lib/python3.7/dist-packages (from httpx==0.13.3->googletrans==4.0.0-rc1) (3.0.4)\n",
            "Requirement already satisfied: h2==3.* in /usr/local/lib/python3.7/dist-packages (from httpcore==0.9.*->httpx==0.13.3->googletrans==4.0.0-rc1) (3.2.0)\n",
            "Requirement already satisfied: h11<0.10,>=0.8 in /usr/local/lib/python3.7/dist-packages (from httpcore==0.9.*->httpx==0.13.3->googletrans==4.0.0-rc1) (0.9.0)\n",
            "Requirement already satisfied: hyperframe<6,>=5.2.0 in /usr/local/lib/python3.7/dist-packages (from h2==3.*->httpcore==0.9.*->httpx==0.13.3->googletrans==4.0.0-rc1) (5.2.0)\n",
            "Requirement already satisfied: hpack<4,>=3.0 in /usr/local/lib/python3.7/dist-packages (from h2==3.*->httpcore==0.9.*->httpx==0.13.3->googletrans==4.0.0-rc1) (3.0.0)\n",
            "Requirement already satisfied: deepl in /usr/local/lib/python3.7/dist-packages (1.6.0)\n",
            "Requirement already satisfied: requests<3,>=2 in /usr/local/lib/python3.7/dist-packages (from deepl) (2.23.0)\n",
            "Requirement already satisfied: chardet<4,>=3.0.2 in /usr/local/lib/python3.7/dist-packages (from requests<3,>=2->deepl) (3.0.4)\n",
            "Requirement already satisfied: idna<3,>=2.5 in /usr/local/lib/python3.7/dist-packages (from requests<3,>=2->deepl) (2.10)\n",
            "Requirement already satisfied: certifi>=2017.4.17 in /usr/local/lib/python3.7/dist-packages (from requests<3,>=2->deepl) (2021.10.8)\n",
            "Requirement already satisfied: urllib3!=1.25.0,!=1.25.1,<1.26,>=1.21.1 in /usr/local/lib/python3.7/dist-packages (from requests<3,>=2->deepl) (1.24.3)\n"
          ]
        }
      ]
    },
    {
      "cell_type": "code",
      "source": [
        "class Logger:\n",
        "  def __init__(self, filename, output=False):\n",
        "    self.console = sys.stdout\n",
        "    self.output = output\n",
        "    self.file = None\n",
        "    self.set_file(filename)\n",
        "\n",
        "  def set_file(self, filename):\n",
        "    if self.file:\n",
        "      self.file.flush()\n",
        "      self.file.close()\n",
        "    self.file = open(filename, 'w')\n",
        "\n",
        "  def write(self, message):\n",
        "    if self.output:\n",
        "      self.console.write(str(message) + '\\n')\n",
        "    if self.file:\n",
        "      self.file.write(str(message) + '\\n')\n",
        "\n",
        "  def flush(self):\n",
        "    self.console.flush()\n",
        "    if self.file: \n",
        "      self.file.flush()"
      ],
      "metadata": {
        "id": "21O5lsnYTGiJ"
      },
      "execution_count": null,
      "outputs": []
    },
    {
      "cell_type": "markdown",
      "source": [
        "# Read Test Data"
      ],
      "metadata": {
        "id": "4VooPyoRSQoH"
      }
    },
    {
      "cell_type": "code",
      "source": [
        "import csv\n",
        "import sys\n",
        "import nltk\n",
        "\n",
        "MAX_ROWS = 50\n",
        "\n",
        "# reference original Czech texts\n",
        "reference_originals = []\n",
        "\n",
        "# reference translations done by humans in English\n",
        "reference_translations = []\n",
        "\n",
        "csv.field_size_limit(sys.maxsize)\n",
        "\n",
        "try:\n",
        "  # Czech parallel corpus https://ufal.mff.cuni.cz/czeng\n",
        "  with open('/content/drive/MyDrive/Colab Notebooks/VM2/data/translation/czeng20-test', newline='') as csvfile:\n",
        "    reader = csv.reader(csvfile, delimiter='\\t', quotechar='|')\n",
        "    counter = 0\n",
        "\n",
        "    # skip lines\n",
        "    for _ in range(50):\n",
        "        next(reader)\n",
        "\n",
        "    while reader:\n",
        "      row = next(reader)\n",
        "      if row and len(row) == 6:\n",
        "        reference_originals.append(row[4])\n",
        "        reference_translations.append(row[5])\n",
        "        counter = counter + 1\n",
        "      \n",
        "      if counter >= MAX_ROWS:\n",
        "        break;\n",
        "except StopIteration:\n",
        "  print()\n",
        "\n",
        "logger = Logger(\"translation_overview.csv\", output=True)"
      ],
      "metadata": {
        "id": "T1qoIjyQOH3A"
      },
      "execution_count": null,
      "outputs": []
    },
    {
      "cell_type": "code",
      "source": [
        "print(\"Number of Translations: \" + len(reference_translations))"
      ],
      "metadata": {
        "colab": {
          "base_uri": "https://localhost:8080/"
        },
        "id": "9EM87KDkzX9W",
        "outputId": "43a920c9-4b0b-4601-9d5e-666a86dab26a"
      },
      "execution_count": null,
      "outputs": [
        {
          "output_type": "stream",
          "name": "stdout",
          "text": [
            "50\n"
          ]
        }
      ]
    },
    {
      "cell_type": "markdown",
      "source": [
        "# Translate Test Data using Google Translate"
      ],
      "metadata": {
        "id": "vqYVq5Y4Ey5D"
      }
    },
    {
      "cell_type": "code",
      "source": [
        "from googletrans import Translator\n",
        "translator = Translator()\n",
        "\n",
        "# resulting translations from Czech to English\n",
        "hypothesis_translations_google = []\n",
        "for original in reference_originals:\n",
        "  result = translator.translate(original, dest=\"EN\", src=\"CS\")\n",
        "  hypothesis_translations_google.append(result.text)\n",
        "\n",
        "BLEUScore = 0\n",
        "for i in range(len(hypothesis_translations_google)):\n",
        "  BLEUScore += nltk.translate.bleu_score.sentence_bleu([reference_translations[i]], hypothesis_translations_google[i])\n",
        "\n",
        "BLEUScore = BLEUScore/len(hypothesis_translations_google)\n",
        "print(\"Google Translate BLEU Score \" + str(BLEUScore))"
      ],
      "metadata": {
        "colab": {
          "base_uri": "https://localhost:8080/"
        },
        "id": "DdOWOzHGKwE5",
        "outputId": "05fa6e12-fa3d-4f7d-c26b-d5e163a80e29"
      },
      "execution_count": null,
      "outputs": [
        {
          "output_type": "stream",
          "name": "stdout",
          "text": [
            "Google Translate BLEU Score 0.5746241870747856\n"
          ]
        },
        {
          "output_type": "stream",
          "name": "stderr",
          "text": [
            "/usr/local/lib/python3.7/dist-packages/nltk/translate/bleu_score.py:490: UserWarning: \n",
            "Corpus/Sentence contains 0 counts of 4-gram overlaps.\n",
            "BLEU scores might be undesirable; use SmoothingFunction().\n",
            "  warnings.warn(_msg)\n",
            "/usr/local/lib/python3.7/dist-packages/nltk/translate/bleu_score.py:490: UserWarning: \n",
            "Corpus/Sentence contains 0 counts of 2-gram overlaps.\n",
            "BLEU scores might be undesirable; use SmoothingFunction().\n",
            "  warnings.warn(_msg)\n"
          ]
        }
      ]
    },
    {
      "cell_type": "markdown",
      "source": [
        "# Translate Test Data using DeepL"
      ],
      "metadata": {
        "id": "P1gjmNF2E0aU"
      }
    },
    {
      "cell_type": "code",
      "source": [
        "import deepl\n",
        "translator = deepl.Translator(\"<key>\")\n",
        "\n",
        "# resulting translations from Czech to English\n",
        "hypothesis_translations_deepl = []\n",
        "for original in reference_originals:\n",
        "  result = translator.translate_text(original, target_lang=\"EN-GB\", source_lang=\"CS\")\n",
        "  hypothesis_translations_deepl.append(result.text)\n",
        "\n",
        "BLEUScore = 0\n",
        "for i in range(len(hypothesis_translations_deepl)):\n",
        "  BLEUScore += nltk.translate.bleu_score.sentence_bleu([reference_translations[i]], hypothesis_translations_deepl[i])\n",
        "\n",
        "BLEUScore = BLEUScore/len(hypothesis_translations_deepl)\n",
        "print(\"DeepL BLEU Score \" + str(BLEUScore))"
      ],
      "metadata": {
        "colab": {
          "base_uri": "https://localhost:8080/"
        },
        "id": "1yN40bc-MllP",
        "outputId": "006bf01d-fee4-4bd5-ae84-13b307542863"
      },
      "execution_count": null,
      "outputs": [
        {
          "output_type": "stream",
          "name": "stdout",
          "text": [
            "DeepL BLEU Score 0.6608219505348069\n"
          ]
        },
        {
          "output_type": "stream",
          "name": "stderr",
          "text": [
            "/usr/local/lib/python3.7/dist-packages/nltk/translate/bleu_score.py:490: UserWarning: \n",
            "Corpus/Sentence contains 0 counts of 4-gram overlaps.\n",
            "BLEU scores might be undesirable; use SmoothingFunction().\n",
            "  warnings.warn(_msg)\n",
            "/usr/local/lib/python3.7/dist-packages/nltk/translate/bleu_score.py:490: UserWarning: \n",
            "Corpus/Sentence contains 0 counts of 3-gram overlaps.\n",
            "BLEU scores might be undesirable; use SmoothingFunction().\n",
            "  warnings.warn(_msg)\n",
            "/usr/local/lib/python3.7/dist-packages/nltk/translate/bleu_score.py:490: UserWarning: \n",
            "Corpus/Sentence contains 0 counts of 2-gram overlaps.\n",
            "BLEU scores might be undesirable; use SmoothingFunction().\n",
            "  warnings.warn(_msg)\n"
          ]
        }
      ]
    },
    {
      "cell_type": "markdown",
      "source": [
        "# Translate Test Data using Microsoft Cognitive Services\n"
      ],
      "metadata": {
        "id": "JB0_2-uWE2fk"
      }
    },
    {
      "cell_type": "code",
      "source": [
        "import requests, uuid, json\n",
        "\n",
        "subscription_key = \"<key>\"\n",
        "endpoint = \"https://api.cognitive.microsofttranslator.com\"\n",
        "location = \"switzerlandwest\"\n",
        "path = '/translate'\n",
        "constructed_url = endpoint + path\n",
        "params = {\n",
        "    'api-version': '3.0',\n",
        "    'from': 'CS',\n",
        "    'to': ['EN']\n",
        "}\n",
        "headers = {\n",
        "    'Ocp-Apim-Subscription-Key': subscription_key,\n",
        "    'Ocp-Apim-Subscription-Region': location,\n",
        "    'Content-type': 'application/json',\n",
        "    'X-ClientTraceId': str(uuid.uuid4())\n",
        "}\n",
        "\n",
        "body = []\n",
        "for original in reference_originals:\n",
        "  body.append({ 'text': original })\n",
        "\n",
        "# execute request\n",
        "request = requests.post(constructed_url, params=params, headers=headers, json=body)\n",
        "responses = request.json()\n",
        "\n",
        "# resulting translations from Czech to English\n",
        "hypothesis_translations_microsoft = []\n",
        "for response in responses: \n",
        "  hypothesis_translations_microsoft.append(response[\"translations\"][0][\"text\"])\n",
        "\n",
        "BLEUScore = 0\n",
        "for i in range(len(hypothesis_translations_microsoft)):\n",
        "  BLEUScore += nltk.translate.bleu_score.sentence_bleu([reference_translations[i]], hypothesis_translations_microsoft[i])\n",
        "\n",
        "BLEUScore = BLEUScore/len(hypothesis_translations_microsoft)\n",
        "print(\"Microsoft Translate BLEU Score \" + str(BLEUScore))"
      ],
      "metadata": {
        "colab": {
          "base_uri": "https://localhost:8080/"
        },
        "id": "3BkRNjGcMmv7",
        "outputId": "46bb2e42-c361-4614-b6ca-4b92e9aff549"
      },
      "execution_count": null,
      "outputs": [
        {
          "output_type": "stream",
          "name": "stdout",
          "text": [
            "Microsoft Translate BLEU Score 0.6374220560930838\n"
          ]
        },
        {
          "output_type": "stream",
          "name": "stderr",
          "text": [
            "/usr/local/lib/python3.7/dist-packages/nltk/translate/bleu_score.py:490: UserWarning: \n",
            "Corpus/Sentence contains 0 counts of 4-gram overlaps.\n",
            "BLEU scores might be undesirable; use SmoothingFunction().\n",
            "  warnings.warn(_msg)\n",
            "/usr/local/lib/python3.7/dist-packages/nltk/translate/bleu_score.py:490: UserWarning: \n",
            "Corpus/Sentence contains 0 counts of 3-gram overlaps.\n",
            "BLEU scores might be undesirable; use SmoothingFunction().\n",
            "  warnings.warn(_msg)\n",
            "/usr/local/lib/python3.7/dist-packages/nltk/translate/bleu_score.py:490: UserWarning: \n",
            "Corpus/Sentence contains 0 counts of 2-gram overlaps.\n",
            "BLEU scores might be undesirable; use SmoothingFunction().\n",
            "  warnings.warn(_msg)\n"
          ]
        }
      ]
    },
    {
      "cell_type": "markdown",
      "source": [
        "# Prepare data (translation and ground truth) for black and whitebox judegement"
      ],
      "metadata": {
        "id": "5ae2inGrSzIF"
      }
    },
    {
      "cell_type": "code",
      "source": [
        "logger.write(\"Original_English_Translation; Google_English_Translation; Deepl_English_Translation; Microsoft_English_Tranlsation\")\n",
        "\n",
        "for i in range(len(reference_translations)):\n",
        "  output = reference_translations[i]\n",
        "\n",
        "  output = output + \"; \" + hypothesis_translations_google[i]\n",
        "  output = output + \"; \" + hypothesis_translations_deepl[i]\n",
        "  output = output + \"; \" + hypothesis_translations_microsoft[i]\n",
        "\n",
        "  logger.write(output)\n",
        "\n",
        "logger.flush()"
      ],
      "metadata": {
        "colab": {
          "base_uri": "https://localhost:8080/"
        },
        "id": "4Vv-fqPVS02f",
        "outputId": "9773e377-de8a-4ce1-9ebd-7ff9122ef447"
      },
      "execution_count": null,
      "outputs": [
        {
          "output_type": "stream",
          "name": "stdout",
          "text": [
            "Original_English_Translation; Google_English_Translation; Deepl_English_Translation; Microsoft_English_Tranlsation\n",
            "It's... sacred Navajo herbs and...; That's ... secret Navajské flowers and ...; It's... secret Navajo flowers and...; That is... secret Navajo flowers and...\n",
            "Hey, is everything okay?; Look, is everything all right?; Hey, is everything okay?; Hey, is everything okay?\n",
            "No.; No.; No.; No.\n",
            "Not really.; Not exactly.; Not really.; Not really.\n",
            "Actually, not at all.; Actually, it's not at all.; Actually, it's not at all.; Actually, not at all.\n",
            "Subject: Application of EU legislation Answer from the Council (3 November 2009); Subject: EU legislation legislation Response (November 3, 2009); Subject: Application of EU law Answer from the Council (3 November 2009); Subject: Application of EU law Council reply (3 November 2009)\n",
            "It was to be a test...; It was just a test ...; It was just supposed to be a test...; It was supposed to be just a test...\n",
            "Samah gazed at Xar in earnest appeal.; Samah stared at Xara with a breathtaking request in his eyes.; Samah stared at Xar with a pleading look in his eyes.; Samah stared at Xar with a plea in his eyes.\n",
            "That was all.; That was all.; That was it.; That was it.\n",
            "A difficult test.; Difficult test.; Difficult test.; Difficult test.\n",
            "One meant to teach you humility, patience.; It was supposed to teach you humility and patience.; It was meant to teach you humility and patience.; It was to teach you humility and patience.\n",
            "One meant to diminish your aggression...\"; It was supposed to alleviate your aggressiveness ... \"; It was supposed to ease your aggression...\"; It was supposed to temper your aggression...\"\n",
            "\"Weaken us,\" Xar said softly.; Weaken us, \"Xar said quietly.; Weaken us,\" Xar said quietly.; To weaken us,\" Xar said quietly.\n",
            "\"Yes,\" said Samah, slowly lowering his head.; Yes, \"Samah said, slowly bent his head.; Yes,\" Samah said, slowly lowering his head.; Yes,\" Samah said, slowly bowing his head.\n",
            "\"Weaken you.\"; Weaken you. \"; To weaken you.\"; To weaken you.\"\n",
            "\"You feared us.\"; You were afraid of us. \"; You were afraid of us.\"; You were afraid of us.\"\n",
            "\"We feared you.\"; We were afraid of you. \"; We were afraid of you.\"; We were afraid of you.\"\n",
            "\"You hoped we would die...\"; You were hoping to die ... \"; You hoped we would die...\"; You hoped we would die...\"\n",
            "\"No.\"; No.\"; No.\"; Nope.\"\n",
            "Samah shook his head.; Samah shook his head.; Samah shook his head.; Samah shook his head.\n",
            "\"The Labyrinth became the embodiment of that hope.; The labyrinth became the epitome of this hope.; The Labyrinth became the embodiment of this hope.; The labyrinth became the embodiment of this hope.\n",
            "There is nothing bigger or older than the universe.; There is nothing larger or older than the universe.; There is nothing bigger or older than the universe.; There is nothing greater or older than the universe.\n",
            "Your questions I would like to talk about are:; I would like to talk about the following questions:; I would like to talk about the following issues:; I would like to talk about the following issues:\n",
            "Are we alone in the universe?; Are we alone in the universe?; Are we alone in the universe?; Are we alone in the universe?\n",
            "Under Articles 46 EC and 55 EC, Articles 43 EC and 49 EC are not to constitute an obstacle to restrictions laid down on grounds of public health.; Pursuant to Articles 46 ECs and 55 ECs, Articles 43 ECs and 49 EC are not prevented by restrictions on justified reasons for public health.; Under Articles 46 EC and 55 EC, Articles 43 EC and 49 EC do not preclude restrictions justified on grounds of public health.; Under Articles 46 EC and 55 EC, Articles 43 EC and 49 EC do not preclude restrictions justified on grounds of public health.\n",
            "I'm just telling you what I heard.; I say what I heard.; I'm telling you what I heard.; I say what I heard.\n",
            "And the other cops heard it too.; The other cops heard it.; The other cops heard it, too.; The other cops heard it too.\n",
            "Which means that the Skinner will be looking for me.; This means that the skin man will come after me.; That means the Skinner's coming after me.; That means the Leatherman will come after me.\n",
            "Shit.; Damn.; Damn it.; Damn.\n",
            "This shit is crazy.; This is to hold.; That's fucked up.; That sucks.\n",
            "I've got nothing to do with Freebo except for helping you, and no one knows about that except for the cops.; I have nothing to do with Freeb, just helping you.And no one knows, except Polish.; I have nothing to do with Freeb, I'm just helping you. And nobody knows except the cops.; I have nothing to do with Freebo, I'm just helping you. And no one knows, except for the foxes.\n",
            "Am I being set up?; Did they sew it on me?; Did they set me up?; Did they sew it on me?\n",
            "Everybody's got one.; Everybody has someone.; Everybody's got somebody.; Everyone has someone.\n",
            "So you want me to go?; Do you want me to leave?; You want me to leave?; Do you want me to leave?\n",
            "Listen, you telling me... me leaving... it's not gonna help you any.; You told me to leave, --i won't help.; Telling me I'm leaving doesn't help.; Telling me I'm going to leave doesn't help.\n",
            "I'll find another lead.; I'm going to do it from elsewhere.; I'll take it from here.; I'll go for it from somewhere else.\n",
            "So I guess I should go.; So I should go.; So I should go.; So I should go.\n",
            "Good.; Glory.; Kudos.; Glory.\n",
            "You watch that mouth of yours.; And watch out for your tongue.; And you watch your language.; And you watch your tongue.\n",
            "Fuck you.; Noser.; Fuck you.; Naser si.\n",
            "Come and sit with us!; Come sit here!; Come and sit with us!; Come and sit here!\n",
            "No time.; I have no time.; I don't have time.; I don't have time.\n",
            "Come with me!; Come with me!; Come with me!; Come with me!\n",
            "I have to eat first.; You'll eat.; You'll eat later.; Eat then.\n",
            "Come!; Come!; Come on, let's go!; Come!\n",
            "I'll slap you, if you won't let me go.; Don't put me in me or I'll give you a slap.; Don't push me or I'll slap you.; Don't push me or I'll slap you.\n",
            "Oswaldo, look who's here!; Oswalde, watch who's here!; Oswald, look who's here!; Oswald, look who's here!\n",
            "No one visits him.; No one must go to him.; No one is allowed to go to him.; No one is allowed to come to him.\n",
            "How?; But how?; But how?; But how?\n",
            "What are you dong here?; What are you doing here?; What are you doing here?; What are you doing here?\n"
          ]
        }
      ]
    }
  ]
}